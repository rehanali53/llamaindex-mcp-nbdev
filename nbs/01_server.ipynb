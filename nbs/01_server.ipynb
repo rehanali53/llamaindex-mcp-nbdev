{
 "cells": [
  {
   "cell_type": "code",
   "execution_count": null,
   "id": "19baa27f-7bdf-4420-bdd7-80efc3444ad7",
   "metadata": {},
   "outputs": [],
   "source": [
    "#| default_exp server"
   ]
  },
  {
   "cell_type": "code",
   "execution_count": null,
   "id": "f51b4da7-6e7b-450d-ace4-c7c99f5b80c1",
   "metadata": {},
   "outputs": [],
   "source": [
    "#| exporti\n",
    "from llamaindex_mcp_nbdev.core import SQLiteMCPServer, main\n",
    "import argparse"
   ]
  },
  {
   "cell_type": "code",
   "execution_count": null,
   "id": "539d4da5-1031-4810-a0d1-525c8f8a8ee7",
   "metadata": {},
   "outputs": [],
   "source": [
    "#| export\n",
    "\n",
    "# Server Script\n",
    "def run_server():\n",
    "    \"\"\"Run the MCP server with command line interface.\"\"\"\n",
    "    main()\n",
    "\n",
    "if __name__ == \"__main__\":\n",
    "    run_server()"
   ]
  }
 ],
 "metadata": {
  "kernelspec": {
   "display_name": "python3",
   "language": "python",
   "name": "python3"
  }
 },
 "nbformat": 4,
 "nbformat_minor": 5
}

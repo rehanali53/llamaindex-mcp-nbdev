{
 "cells": [
  {
   "cell_type": "markdown",
   "metadata": {},
   "source": [
    "# core\n",
    "\n",
    "> Fill in a module description here"
   ]
  },
  {
   "cell_type": "code",
   "execution_count": null,
   "metadata": {},
   "outputs": [],
   "source": [
    "#| default_exp core"
   ]
  },
  {
   "cell_type": "code",
   "execution_count": null,
   "metadata": {},
   "outputs": [],
   "source": [
    "#| hide\n",
    "from nbdev.showdoc import *"
   ]
  },
  {
   "cell_type": "code",
   "execution_count": null,
   "metadata": {},
   "outputs": [],
   "source": [
    "#| exporti\n",
    "import sqlite3\n",
    "import argparse\n",
    "from mcp.server.fastmcp import FastMCP\n",
    "from typing import List, Tuple, Optional"
   ]
  },
  {
   "cell_type": "code",
   "execution_count": null,
   "metadata": {},
   "outputs": [],
   "source": [
    "#| export\n",
    "def init_db(db_path: str = 'demo.db') -> Tuple[sqlite3.Connection, sqlite3.Cursor]:\n",
    "    \"\"\"Initialize SQLite database and create people table if it doesn't exist.\n",
    "    \n",
    "    Args:\n",
    "        db_path (str): Path to SQLite database file\n",
    "        \n",
    "    Returns:\n",
    "        Tuple[sqlite3.Connection, sqlite3.Cursor]: Database connection and cursor\n",
    "    \"\"\"\n",
    "    conn = sqlite3.connect(db_path)\n",
    "    cursor = conn.cursor()\n",
    "    \n",
    "    cursor.execute('''\n",
    "        CREATE TABLE IF NOT EXISTS people (\n",
    "            id INTEGER PRIMARY KEY AUTOINCREMENT,\n",
    "            name TEXT NOT NULL,\n",
    "            age INTEGER NOT NULL,\n",
    "            profession TEXT NOT NULL\n",
    "        )\n",
    "    ''')\n",
    "    \n",
    "    conn.commit()\n",
    "    return conn, cursor"
   ]
  },
  {
   "cell_type": "code",
   "execution_count": null,
   "metadata": {},
   "outputs": [],
   "source": [
    "# Test the database initialization\n",
    "conn, cursor = init_db('test.db')\n",
    "print(\"Database initialized successfully\")\n",
    "conn.close()"
   ]
  },
  {
   "cell_type": "code",
   "execution_count": null,
   "metadata": {},
   "outputs": [],
   "source": [
    "#| export\n",
    "\n",
    "# MCP Server Setup\n",
    "class SQLiteMCPServer:\n",
    "    \"\"\"MCP Server for SQLite database operations.\"\"\"\n",
    "    \n",
    "    def __init__(self, server_name: str = 'sqlite-demo', db_path: str = 'demo.db'):\n",
    "        self.mcp = FastMCP(server_name)\n",
    "        self.db_path = db_path\n",
    "        self._setup_tools()\n",
    "    \n",
    "    def _setup_tools(self):\n",
    "        \"\"\"Setup MCP tools for database operations.\"\"\"\n",
    "        \n",
    "        @self.mcp.tool()\n",
    "        def add_data(query: str) -> bool:\n",
    "            \"\"\"Add new data to the people table using a SQL INSERT query.\n",
    "            \n",
    "            Args:\n",
    "                query (str): SQL INSERT query following this format:\n",
    "                    INSERT INTO people (name, age, profession) VALUES ('John Doe', 30, 'Engineer')\n",
    "                    \n",
    "            Schema:\n",
    "                - name: Text field (required)\n",
    "                - age: Integer field (required)  \n",
    "                - profession: Text field (required)\n",
    "                Note: 'id' field is auto-generated\n",
    "                \n",
    "            Returns:\n",
    "                bool: True if data was added successfully, False otherwise\n",
    "                \n",
    "            Example:\n",
    "                >>> query = '''\n",
    "                ... INSERT INTO people (name, age, profession)\n",
    "                ... VALUES ('Alice Smith', 25, 'Developer')\n",
    "                ... '''\n",
    "                >>> add_data(query)\n",
    "                True\n",
    "            \"\"\"\n",
    "            conn, cursor = init_db(self.db_path)\n",
    "            try:\n",
    "                cursor.execute(query)\n",
    "                conn.commit()\n",
    "                return True\n",
    "            except sqlite3.Error as e:\n",
    "                print(f\"Error adding data: {e}\")\n",
    "                return False\n",
    "            finally:\n",
    "                conn.close()\n",
    "        \n",
    "        @self.mcp.tool()\n",
    "        def read_data(query: str = \"SELECT * FROM people\") -> List[Tuple]:\n",
    "            \"\"\"Read data from the people table using a SQL SELECT query.\n",
    "            \n",
    "            Args:\n",
    "                query (str, optional): SQL SELECT query. Defaults to \"SELECT * FROM people\".\n",
    "                \n",
    "            Examples:\n",
    "                - \"SELECT * FROM people\"\n",
    "                - \"SELECT name, age FROM people WHERE age > 25\"\n",
    "                - \"SELECT * FROM people ORDER BY age DESC\"\n",
    "                \n",
    "            Returns:\n",
    "                List[Tuple]: List of tuples containing the query results.\n",
    "                For default query, tuple format is (id, name, age, profession)\n",
    "                \n",
    "            Example:\n",
    "                >>> # Read all records\n",
    "                >>> read_data()\n",
    "                [(1, 'John Doe', 30, 'Engineer'), (2, 'Alice Smith', 25, 'Developer')]\n",
    "                \n",
    "                >>> # Read with custom query\n",
    "                >>> read_data(\"SELECT name, profession FROM people WHERE age < 30\")\n",
    "                [('Alice Smith', 'Developer')]\n",
    "            \"\"\"\n",
    "            conn, cursor = init_db(self.db_path)\n",
    "            try:\n",
    "                cursor.execute(query)\n",
    "                return cursor.fetchall()\n",
    "            except sqlite3.Error as e:\n",
    "                print(f\"Error reading data: {e}\")\n",
    "                return []\n",
    "            finally:\n",
    "                conn.close()\n",
    "    \n",
    "    def run(self, server_type: str = \"sse\"):\n",
    "        \"\"\"Run the MCP server.\n",
    "        \n",
    "        Args:\n",
    "            server_type (str): Type of server to run (\"sse\" or \"stdio\")\n",
    "        \"\"\"\n",
    "        print(f\"Starting SQLite MCP Server...\")\n",
    "        print(f\"Database: {self.db_path}\")\n",
    "        print(f\"Server Type: {server_type}\")\n",
    "        self.mcp.run(server_type)"
   ]
  },
  {
   "cell_type": "code",
   "execution_count": null,
   "metadata": {},
   "outputs": [],
   "source": [
    "# Test the MCP server setup\n",
    "server = SQLiteMCPServer('test-server', 'test.db')\n",
    "print(\"MCP Server created successfully\")\n",
    "print(f\"Server instance: {type(server.mcp).__name__}\")\n",
    "print(f\"Database path: {server.db_path}\")"
   ]
  },
  {
   "cell_type": "code",
   "execution_count": null,
   "metadata": {},
   "outputs": [],
   "source": [
    "#| export\n",
    "\n",
    "# Main Function\n",
    "def main():\n",
    "    \"\"\"Main function to run the MCP server with command line arguments.\"\"\"\n",
    "    parser = argparse.ArgumentParser(description=\"SQLite MCP Server\")\n",
    "    parser.add_argument(\n",
    "        \"--server_type\", \n",
    "        type=str, \n",
    "        default=\"sse\",\n",
    "        choices=[\"sse\", \"stdio\"],\n",
    "        help=\"Type of server to run\"\n",
    "    )\n",
    "    parser.add_argument(\n",
    "        \"--db_path\",\n",
    "        type=str,\n",
    "        default=\"demo.db\",\n",
    "        help=\"Path to SQLite database file\"\n",
    "    )\n",
    "    \n",
    "    args = parser.parse_args()\n",
    "    \n",
    "    # Create and run server\n",
    "    server = SQLiteMCPServer(db_path=args.db_path)\n",
    "    server.run(args.server_type)"
   ]
  },
  {
   "cell_type": "code",
   "execution_count": null,
   "metadata": {},
   "outputs": [],
   "source": [
    "# Example usage demonstration\n",
    "if __name__ == \"__main__\":\n",
    "    # Create server instance\n",
    "    server = SQLiteMCPServer('demo-server', 'demo.db')\n",
    "    \n",
    "    # You can test the tools directly here\n",
    "    # Note: In production, tools are called by MCP clients\n",
    "    print(\"Server setup complete!\")\n",
    "    print(\"To run server: python -m llamaindex_mcp_project.server\")"
   ]
  },
  {
   "cell_type": "code",
   "execution_count": null,
   "metadata": {},
   "outputs": [],
   "source": [
    "#| hide\n",
    "import nbdev; nbdev.nbdev_export()"
   ]
  }
 ],
 "metadata": {
  "kernelspec": {
   "display_name": "Python 3 (ipykernel)",
   "language": "python",
   "name": "python3"
  },
  "language_info": {
   "codemirror_mode": {
    "name": "ipython",
    "version": 3
   },
   "file_extension": ".py",
   "mimetype": "text/x-python",
   "name": "python",
   "nbconvert_exporter": "python",
   "pygments_lexer": "ipython3",
   "version": "3.12.6"
  }
 },
 "nbformat": 4,
 "nbformat_minor": 4
}

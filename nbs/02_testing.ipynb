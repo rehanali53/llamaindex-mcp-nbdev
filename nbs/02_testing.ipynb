{
 "cells": [
  {
   "cell_type": "code",
   "execution_count": null,
   "id": "eaef9b1f-6074-44ca-86fb-e62b945bcfa6",
   "metadata": {},
   "outputs": [],
   "source": [
    "#| default_exp testing"
   ]
  },
  {
   "cell_type": "code",
   "execution_count": null,
   "id": "fa1d30e0-5e2f-424d-aa83-05b2259f0404",
   "metadata": {},
   "outputs": [],
   "source": [
    "import sqlite3\n",
    "import os\n",
    "import tempfile\n",
    "from llamaindex_mcp_nbdev.core import SQLiteMCPServer, init_db"
   ]
  },
  {
   "cell_type": "code",
   "execution_count": null,
   "id": "82e64aad-6789-44a2-8cc3-8d5d982caa5f",
   "metadata": {},
   "outputs": [],
   "source": [
    "# Test Database Operations\n",
    "def test_database_operations():\n",
    "    \"\"\"Test database initialization and operations.\"\"\"\n",
    "    # Use temporary database for testing\n",
    "    with tempfile.NamedTemporaryFile(suffix='.db', delete=False) as tmp:\n",
    "        db_path = tmp.name\n",
    "    \n",
    "    try:\n",
    "        # Test database initialization\n",
    "        conn, cursor = init_db(db_path)\n",
    "        \n",
    "        # Test table creation\n",
    "        cursor.execute(\"SELECT name FROM sqlite_master WHERE type='table' AND name='people'\")\n",
    "        tables = cursor.fetchall()\n",
    "        assert len(tables) == 1, \"People table should be created\"\n",
    "        \n",
    "        # Test data insertion\n",
    "        cursor.execute(\"INSERT INTO people (name, age, profession) VALUES ('Test User', 25, 'Tester')\")\n",
    "        conn.commit()\n",
    "        \n",
    "        # Test data retrieval\n",
    "        cursor.execute(\"SELECT * FROM people\")\n",
    "        results = cursor.fetchall()\n",
    "        assert len(results) == 1, \"Should have one record\"\n",
    "        assert results[0][1] == 'Test User', \"Name should match\"\n",
    "        \n",
    "        conn.close()\n",
    "        print(\"Database operations test passed!\")\n",
    "        \n",
    "    finally:\n",
    "        # Clean up\n",
    "        if os.path.exists(db_path):\n",
    "            os.unlink(db_path)\n",
    "\n",
    "# Run test\n",
    "test_database_operations()"
   ]
  },
  {
   "cell_type": "code",
   "execution_count": null,
   "id": "011440af-f4da-4814-bb64-0bdf89e64fab",
   "metadata": {},
   "outputs": [],
   "source": [
    "# Test MCP Server\n",
    "def test_mcp_server():\n",
    "    \"\"\"Test MCP server initialization.\"\"\"\n",
    "    with tempfile.NamedTemporaryFile(suffix='.db', delete=False) as tmp:\n",
    "        db_path = tmp.name\n",
    "    \n",
    "    try:\n",
    "        # Test server creation\n",
    "        server = SQLiteMCPServer('test-server', db_path)\n",
    "        assert server.db_path == db_path, \"Database path should be set\"\n",
    "        assert server.mcp is not None, \"MCP instance should be created\"\n",
    "        assert hasattr(server.mcp, 'tool'), \"MCP should have tool decorator\"\n",
    "        \n",
    "        # Test database initialization\n",
    "        conn, cursor = init_db(db_path)\n",
    "        cursor.execute(\"SELECT name FROM sqlite_master WHERE type='table' AND name='people'\")\n",
    "        tables = cursor.fetchall()\n",
    "        assert len(tables) == 1, \"People table should be created\"\n",
    "        conn.close()\n",
    "        \n",
    "        print(\"MCP server test passed!\")\n",
    "        \n",
    "    finally:\n",
    "        # Clean up\n",
    "        if os.path.exists(db_path):\n",
    "            os.unlink(db_path)\n",
    "\n",
    "# Run test\n",
    "test_mcp_server()"
   ]
  }
 ],
 "metadata": {
  "kernelspec": {
   "display_name": "python3",
   "language": "python",
   "name": "python3"
  }
 },
 "nbformat": 4,
 "nbformat_minor": 5
}

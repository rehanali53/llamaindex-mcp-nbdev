{
 "cells": [
  {
   "cell_type": "markdown",
   "metadata": {},
   "source": [
    "# Web Demo\n",
    "\n",
    "> Interactive web demo for SQLite MCP Server"
   ]
  },
  {
   "cell_type": "code",
   "execution_count": null,
   "metadata": {},
   "outputs": [],
   "source": [
    "#| default_exp web_demo"
   ]
  },
  {
   "cell_type": "code",
   "execution_count": null,
   "metadata": {},
   "outputs": [],
   "source": [
    "#| hide\n",
    "from nbdev.showdoc import *"
   ]
  },
  {
   "cell_type": "code",
   "execution_count": null,
   "metadata": {},
   "outputs": [],
   "source": [
    "#| export\n",
    "from fastapi import FastAPI, HTTPException\n",
    "from fastapi.middleware.cors import CORSMiddleware\n",
    "from fastapi.responses import FileResponse\n",
    "from pydantic import BaseModel\n",
    "import sqlite3\n",
    "import os\n",
    "from typing import List, Tuple, Dict, Any\n",
    "from llamaindex_mcp_nbdev.core import init_db"
   ]
  },
  {
   "cell_type": "code",
   "execution_count": null,
   "metadata": {},
   "outputs": [],
   "source": [
    "#| export\n",
    "\n",
    "# Create FastAPI app\n",
    "app = FastAPI(title=\"SQLite MCP Server Demo\")\n",
    "\n",
    "# Add CORS middleware to allow browser requests\n",
    "app.add_middleware(\n",
    "    CORSMiddleware,\n",
    "    allow_origins=[\"*\"],  # In production, specify your domain\n",
    "    allow_credentials=True,\n",
    "    allow_methods=[\"*\"],\n",
    "    allow_headers=[\"*\"],\n",
    ")\n",
    "\n",
    "# Request models\n",
    "class QueryRequest(BaseModel):\n",
    "    query: str\n",
    "\n",
    "# Database path\n",
    "DB_PATH = \"demo.db\""
   ]
  },
  {
   "cell_type": "code",
   "execution_count": null,
   "metadata": {},
   "outputs": [],
   "source": [
    "#| export\n",
    "\n",
    "# Initialize database on startup\n",
    "@app.on_event(\"startup\")\n",
    "async def startup_event():\n",
    "    \"\"\"Initialize database on server startup\"\"\"\n",
    "    init_db(DB_PATH)\n",
    "    print(f\"Database initialized at: {DB_PATH}\")"
   ]
  },
  {
   "cell_type": "code",
   "execution_count": null,
   "metadata": {},
   "outputs": [],
   "source": [
    "#| export\n",
    "\n",
    "@app.post(\"/add_data\")\n",
    "async def add_data(request: QueryRequest):\n",
    "    \"\"\"Add data to the database\"\"\"\n",
    "    try:\n",
    "        conn = sqlite3.connect(DB_PATH)\n",
    "        cursor = conn.cursor()\n",
    "        \n",
    "        # Validate that it's an INSERT query\n",
    "        if not request.query.strip().upper().startswith(\"INSERT\"):\n",
    "            raise HTTPException(status_code=400, detail=\"Only INSERT queries are allowed\")\n",
    "        \n",
    "        cursor.execute(request.query)\n",
    "        conn.commit()\n",
    "        conn.close()\n",
    "        \n",
    "        return {\"success\": True, \"message\": \"Data added successfully\"}\n",
    "    \n",
    "    except sqlite3.Error as e:\n",
    "        return {\"success\": False, \"error\": str(e)}\n",
    "    except Exception as e:\n",
    "        return {\"success\": False, \"error\": str(e)}"
   ]
  },
  {
   "cell_type": "code",
   "execution_count": null,
   "metadata": {},
   "outputs": [],
   "source": [
    "#| export\n",
    "\n",
    "@app.post(\"/read_data\")\n",
    "async def read_data(request: QueryRequest):\n",
    "    \"\"\"Read data from the database\"\"\"\n",
    "    try:\n",
    "        conn = sqlite3.connect(DB_PATH)\n",
    "        cursor = conn.cursor()\n",
    "        \n",
    "        # Validate that it's a SELECT query\n",
    "        if not request.query.strip().upper().startswith(\"SELECT\"):\n",
    "            raise HTTPException(status_code=400, detail=\"Only SELECT queries are allowed\")\n",
    "        \n",
    "        cursor.execute(request.query)\n",
    "        results = cursor.fetchall()\n",
    "        conn.close()\n",
    "        \n",
    "        return {\"success\": True, \"data\": results}\n",
    "    \n",
    "    except sqlite3.Error as e:\n",
    "        return {\"success\": False, \"error\": str(e)}\n",
    "    except Exception as e:\n",
    "        return {\"success\": False, \"error\": str(e)}"
   ]
  },
  {
   "cell_type": "code",
   "execution_count": null,
   "metadata": {},
   "outputs": [],
   "source": [
    "#| export\n",
    "\n",
    "@app.get(\"/\")\n",
    "async def serve_demo():\n",
    "    \"\"\"Serve the demo HTML page\"\"\"\n",
    "    html_path = os.path.join(os.path.dirname(os.path.dirname(__file__)), \"demo.html\")\n",
    "    if os.path.exists(html_path):\n",
    "        return FileResponse(html_path)\n",
    "    else:\n",
    "        return {\"message\": \"Demo page not found. Please ensure demo.html is in the project root.\"}"
   ]
  },
  {
   "cell_type": "code",
   "execution_count": null,
   "metadata": {},
   "outputs": [],
   "source": [
    "#| export\n",
    "\n",
    "@app.get(\"/stats\")\n",
    "async def get_stats():\n",
    "    \"\"\"Get database statistics\"\"\"\n",
    "    try:\n",
    "        conn = sqlite3.connect(DB_PATH)\n",
    "        cursor = conn.cursor()\n",
    "        \n",
    "        # Get total count\n",
    "        cursor.execute(\"SELECT COUNT(*) FROM people\")\n",
    "        total = cursor.fetchone()[0]\n",
    "        \n",
    "        # Get average age\n",
    "        cursor.execute(\"SELECT AVG(age) FROM people\")\n",
    "        avg_age = cursor.fetchone()[0] or 0\n",
    "        \n",
    "        # Get professions count\n",
    "        cursor.execute(\"SELECT profession, COUNT(*) FROM people GROUP BY profession\")\n",
    "        professions = cursor.fetchall()\n",
    "        \n",
    "        conn.close()\n",
    "        \n",
    "        return {\n",
    "            \"success\": True,\n",
    "            \"total_records\": total,\n",
    "            \"average_age\": round(avg_age, 2) if avg_age else 0,\n",
    "            \"professions\": {prof: count for prof, count in professions}\n",
    "        }\n",
    "    \n",
    "    except Exception as e:\n",
    "        return {\"success\": False, \"error\": str(e)}"
   ]
  },
  {
   "cell_type": "code",
   "execution_count": null,
   "metadata": {},
   "outputs": [],
   "source": [
    "#| export\n",
    "\n",
    "def run_demo():\n",
    "    \"\"\"Run the web demo server\"\"\"\n",
    "    import uvicorn\n",
    "    print(\"Starting web demo server...\")\n",
    "    print(\"Open http://localhost:8000 in your browser to view the demo\")\n",
    "    uvicorn.run(app, host=\"0.0.0.0\", port=8000)"
   ]
  },
  {
   "cell_type": "code",
   "execution_count": null,
   "metadata": {},
   "outputs": [],
   "source": [
    "#| export\n",
    "#| eval: false\n",
    "\n",
    "if __name__ == \"__main__\":\n",
    "    run_demo()"
   ]
  },
  {
   "cell_type": "markdown",
   "metadata": {},
   "source": [
    "## Testing the API endpoints"
   ]
  },
  {
   "cell_type": "code",
   "execution_count": null,
   "metadata": {},
   "outputs": [],
   "source": [
    "# Test database initialization\n",
    "test_conn, test_cursor = init_db('test_web.db')\n",
    "test_cursor.execute(\"SELECT name FROM sqlite_master WHERE type='table' AND name='people'\")\n",
    "assert test_cursor.fetchone() is not None, \"People table should exist\"\n",
    "test_conn.close()\n",
    "print(\"Database initialization test passed!\")"
   ]
  },
  {
   "cell_type": "code",
   "execution_count": null,
   "metadata": {},
   "outputs": [],
   "source": [
    "#| hide\n",
    "import nbdev; nbdev.nbdev_export()"
   ]
  }
 ],
 "metadata": {
  "kernelspec": {
   "display_name": "python3",
   "language": "python",
   "name": "python3"
  }
 },
 "nbformat": 4,
 "nbformat_minor": 4
}

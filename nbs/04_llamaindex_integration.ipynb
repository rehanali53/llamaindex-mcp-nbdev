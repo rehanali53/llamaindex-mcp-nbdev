{
 "cells": [
  {
   "cell_type": "markdown",
   "metadata": {},
   "source": [
    "# LlamaIndex Integration\n",
    "\n",
    "> Natural language interface for SQLite database using LlamaIndex"
   ]
  },
  {
   "cell_type": "code",
   "execution_count": null,
   "metadata": {},
   "outputs": [],
   "source": [
    "#| default_exp llamaindex_integration"
   ]
  },
  {
   "cell_type": "code",
   "execution_count": null,
   "metadata": {},
   "outputs": [],
   "source": [
    "#| hide\n",
    "from nbdev.showdoc import *"
   ]
  },
  {
   "cell_type": "code",
   "execution_count": null,
   "metadata": {},
   "outputs": [],
   "source": [
    "#| export\n",
    "import os\n",
    "import sqlite3\n",
    "from typing import Optional, Dict, Any, List\n",
    "from llamaindex_mcp_nbdev.core import init_db, SQLiteMCPServer\n",
    "\n",
    "# Check if LlamaIndex is installed\n",
    "try:\n",
    "    from llama_index.core import SQLDatabase, Settings\n",
    "    from llama_index.core.query_engine import NLSQLTableQueryEngine\n",
    "    from llama_index.llms.openai import OpenAI\n",
    "    LLAMAINDEX_AVAILABLE = True\n",
    "except ImportError:\n",
    "    LLAMAINDEX_AVAILABLE = False\n",
    "    print(\"LlamaIndex not installed. Install with: pip install llama-index\")"
   ]
  },
  {
   "cell_type": "markdown",
   "metadata": {},
   "source": [
    "## Basic Text-to-SQL Query Engine"
   ]
  },
  {
   "cell_type": "code",
   "execution_count": null,
   "metadata": {},
   "outputs": [],
   "source": [
    "#| export\n",
    "\n",
    "class LlamaIndexSQLServer(SQLiteMCPServer):\n",
    "    \"\"\"Extended MCP Server with LlamaIndex natural language query capabilities.\"\"\"\n",
    "    \n",
    "    def __init__(self, server_name: str = 'llamaindex-sqlite', \n",
    "                 db_path: str = 'demo.db',\n",
    "                 openai_api_key: Optional[str] = None):\n",
    "        \"\"\"Initialize server with LlamaIndex support.\n",
    "        \n",
    "        Args:\n",
    "            server_name: Name of the MCP server\n",
    "            db_path: Path to SQLite database\n",
    "            openai_api_key: OpenAI API key for LLM queries (optional)\n",
    "        \"\"\"\n",
    "        super().__init__(server_name, db_path)\n",
    "        self.query_engine = None\n",
    "        \n",
    "        if LLAMAINDEX_AVAILABLE:\n",
    "            self._setup_llamaindex(openai_api_key)\n",
    "    \n",
    "    def _setup_llamaindex(self, api_key: Optional[str] = None):\n",
    "        \"\"\"Setup LlamaIndex query engine.\"\"\"\n",
    "        try:\n",
    "            # Set up LLM\n",
    "            if api_key:\n",
    "                os.environ[\"OPENAI_API_KEY\"] = api_key\n",
    "                Settings.llm = OpenAI(temperature=0.1, model=\"gpt-3.5-turbo\")\n",
    "            \n",
    "            # Create SQL database object\n",
    "            sql_database = SQLDatabase.from_uri(f\"sqlite:///{self.db_path}\")\n",
    "            \n",
    "            # Create query engine\n",
    "            self.query_engine = NLSQLTableQueryEngine(\n",
    "                sql_database=sql_database,\n",
    "                tables=[\"people\"],  # Specify which tables to include\n",
    "            )\n",
    "            \n",
    "            # Add natural language query tool\n",
    "            self._add_nl_query_tool()\n",
    "            \n",
    "        except Exception as e:\n",
    "            print(f\"Warning: Could not setup LlamaIndex: {e}\")\n",
    "            print(\"Natural language queries will not be available.\")\n",
    "    \n",
    "    def _add_nl_query_tool(self):\n",
    "        \"\"\"Add natural language query tool to MCP server.\"\"\"\n",
    "        \n",
    "        @self.mcp.tool()\n",
    "        def nl_query(question: str) -> Dict[str, Any]:\n",
    "            \"\"\"Ask questions about the database in natural language.\n",
    "            \n",
    "            Args:\n",
    "                question: Natural language question about the data\n",
    "                \n",
    "            Returns:\n",
    "                Dict containing the answer and generated SQL query\n",
    "                \n",
    "            Examples:\n",
    "                - \"What is the average age of developers?\"\n",
    "                - \"How many people are older than 30?\"\n",
    "                - \"List all engineers sorted by age\"\n",
    "                - \"Who is the youngest person in the database?\"\n",
    "            \"\"\"\n",
    "            if not self.query_engine:\n",
    "                return {\n",
    "                    \"error\": \"Natural language queries not available. Please set up LlamaIndex.\"\n",
    "                }\n",
    "            \n",
    "            try:\n",
    "                # Query using natural language\n",
    "                response = self.query_engine.query(question)\n",
    "                \n",
    "                # Extract SQL query if available\n",
    "                sql_query = getattr(response, 'sql_query', None)\n",
    "                \n",
    "                return {\n",
    "                    \"success\": True,\n",
    "                    \"answer\": str(response),\n",
    "                    \"sql_query\": sql_query,\n",
    "                    \"metadata\": response.metadata if hasattr(response, 'metadata') else {}\n",
    "                }\n",
    "                \n",
    "            except Exception as e:\n",
    "                return {\n",
    "                    \"success\": False,\n",
    "                    \"error\": str(e)\n",
    "                }"
   ]
  },
  {
   "cell_type": "markdown",
   "metadata": {},
   "source": [
    "## Query Examples and Capabilities"
   ]
  },
  {
   "cell_type": "code",
   "execution_count": null,
   "metadata": {},
   "outputs": [],
   "source": [
    "#| export\n",
    "\n",
    "def get_sample_queries() -> List[str]:\n",
    "    \"\"\"Get sample natural language queries for demonstration.\"\"\"\n",
    "    return [\n",
    "        \"What is the average age of all people?\",\n",
    "        \"How many developers are in the database?\",\n",
    "        \"Who is the oldest person?\",\n",
    "        \"List all professions and their count\",\n",
    "        \"Show me people younger than 30\",\n",
    "        \"What's the age range in our database?\",\n",
    "        \"Find all engineers sorted by age\",\n",
    "        \"How many people are there in each age group (20s, 30s, 40s)?\",\n",
    "        \"What is the most common profession?\",\n",
    "        \"Show me the youngest developer\"\n",
    "    ]"
   ]
  },
  {
   "cell_type": "markdown",
   "metadata": {},
   "source": [
    "## Standalone Query Function"
   ]
  },
  {
   "cell_type": "code",
   "execution_count": null,
   "metadata": {},
   "outputs": [],
   "source": [
    "#| export\n",
    "\n",
    "def query_database_nl(question: str, db_path: str = \"demo.db\") -> Dict[str, Any]:\n",
    "    \"\"\"Query SQLite database using natural language.\n",
    "    \n",
    "    Args:\n",
    "        question: Natural language question\n",
    "        db_path: Path to SQLite database\n",
    "        \n",
    "    Returns:\n",
    "        Dictionary with answer and generated SQL\n",
    "    \"\"\"\n",
    "    if not LLAMAINDEX_AVAILABLE:\n",
    "        return {\n",
    "            \"error\": \"LlamaIndex not installed. Install with: pip install llama-index\"\n",
    "        }\n",
    "    \n",
    "    try:\n",
    "        # Create SQL database connection\n",
    "        sql_database = SQLDatabase.from_uri(f\"sqlite:///{db_path}\")\n",
    "        \n",
    "        # Create query engine\n",
    "        query_engine = NLSQLTableQueryEngine(\n",
    "            sql_database=sql_database,\n",
    "            tables=[\"people\"],\n",
    "        )\n",
    "        \n",
    "        # Execute query\n",
    "        response = query_engine.query(question)\n",
    "        \n",
    "        return {\n",
    "            \"success\": True,\n",
    "            \"answer\": str(response),\n",
    "            \"sql_query\": getattr(response, 'sql_query', None)\n",
    "        }\n",
    "        \n",
    "    except Exception as e:\n",
    "        return {\n",
    "            \"success\": False,\n",
    "            \"error\": str(e)\n",
    "        }"
   ]
  },
  {
   "cell_type": "markdown",
   "metadata": {},
   "source": [
    "## Demo Functions"
   ]
  },
  {
   "cell_type": "code",
   "execution_count": null,
   "metadata": {},
   "outputs": [],
   "source": "#| eval: false\n# Test database setup\ndef setup_test_data(db_path: str = \"test_llama.db\"):\n    \"\"\"Create test database with sample data.\"\"\"\n    conn, cursor = init_db(db_path)\n    \n    # Clear existing data\n    cursor.execute(\"DELETE FROM people\")\n    \n    # Insert test data\n    test_data = [\n        (\"Alice Johnson\", 28, \"Developer\"),\n        (\"Bob Smith\", 35, \"Engineer\"),\n        (\"Carol Davis\", 42, \"Manager\"),\n        (\"David Wilson\", 23, \"Developer\"),\n        (\"Eve Brown\", 31, \"Designer\"),\n        (\"Frank Miller\", 45, \"Engineer\"),\n        (\"Grace Lee\", 29, \"Developer\"),\n        (\"Henry Taylor\", 38, \"Manager\"),\n        (\"Iris Chen\", 26, \"Designer\"),\n        (\"Jack White\", 52, \"Engineer\")\n    ]\n    \n    cursor.executemany(\n        \"INSERT INTO people (name, age, profession) VALUES (?, ?, ?)\",\n        test_data\n    )\n    \n    conn.commit()\n    conn.close()\n    \n    print(f\"Test database created with {len(test_data)} records\")\n\n# Create test database\nsetup_test_data()"
  },
  {
   "cell_type": "code",
   "execution_count": null,
   "metadata": {},
   "outputs": [],
   "source": "#| eval: false\n# Demonstrate natural language queries (requires API key)\nif LLAMAINDEX_AVAILABLE:\n    print(\"LlamaIndex is available!\")\n    print(\"\\nTo use natural language queries, you need to:\")\n    print(\"1. Set OPENAI_API_KEY environment variable\")\n    print(\"2. Or pass openai_api_key parameter when creating server\")\n    print(\"\\nExample queries you can ask:\")\n    for query in get_sample_queries()[:5]:\n        print(f\"- {query}\")\nelse:\n    print(\"LlamaIndex not installed. Install with:\")\n    print(\"pip install llama-index llama-index-llms-openai\")"
  },
  {
   "cell_type": "markdown",
   "metadata": {},
   "source": [
    "## Usage Examples"
   ]
  },
  {
   "cell_type": "code",
   "execution_count": null,
   "metadata": {},
   "outputs": [],
   "source": [
    "#| export\n",
    "\n",
    "def main():\n",
    "    \"\"\"Run LlamaIndex-enabled MCP server.\"\"\"\n",
    "    import argparse\n",
    "    \n",
    "    parser = argparse.ArgumentParser(description=\"SQLite MCP Server with LlamaIndex\")\n",
    "    parser.add_argument(\n",
    "        \"--server_type\", \n",
    "        type=str, \n",
    "        default=\"sse\",\n",
    "        choices=[\"sse\", \"stdio\"],\n",
    "        help=\"Type of server to run\"\n",
    "    )\n",
    "    parser.add_argument(\n",
    "        \"--db_path\",\n",
    "        type=str,\n",
    "        default=\"demo.db\",\n",
    "        help=\"Path to SQLite database file\"\n",
    "    )\n",
    "    parser.add_argument(\n",
    "        \"--openai_api_key\",\n",
    "        type=str,\n",
    "        default=None,\n",
    "        help=\"OpenAI API key for natural language queries\"\n",
    "    )\n",
    "    \n",
    "    args = parser.parse_args()\n",
    "    \n",
    "    # Create and run server\n",
    "    server = LlamaIndexSQLServer(\n",
    "        db_path=args.db_path,\n",
    "        openai_api_key=args.openai_api_key\n",
    "    )\n",
    "    \n",
    "    print(\"Starting LlamaIndex-enabled SQLite MCP Server...\")\n",
    "    if LLAMAINDEX_AVAILABLE and server.query_engine:\n",
    "        print(\"Natural language queries are enabled!\")\n",
    "        print(\"Available tools: add_data, read_data, nl_query\")\n",
    "    else:\n",
    "        print(\"Running in basic mode (SQL only)\")\n",
    "        print(\"Available tools: add_data, read_data\")\n",
    "    \n",
    "    server.run(args.server_type)"
   ]
  },
  {
   "cell_type": "code",
   "execution_count": null,
   "metadata": {},
   "outputs": [],
   "source": [
    "#| hide\n",
    "import nbdev; nbdev.nbdev_export()"
   ]
  }
 ],
 "metadata": {
  "kernelspec": {
   "display_name": "python3",
   "language": "python",
   "name": "python3"
  }
 },
 "nbformat": 4,
 "nbformat_minor": 4
}
